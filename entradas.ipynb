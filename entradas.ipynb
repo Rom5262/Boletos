{
 "cells": [
  {
   "cell_type": "code",
   "execution_count": 28,
   "id": "8bb098b0",
   "metadata": {},
   "outputs": [],
   "source": [
    "import pandas as pd\n",
    "import seaborn as sns\n",
    "from matplotlib import pyplot as plt\n",
    "from math import factorial\n",
    "import numpy as np\n",
    "from scipy import stats as st"
   ]
  },
  {
   "cell_type": "code",
   "execution_count": 29,
   "id": "44e03b3c",
   "metadata": {},
   "outputs": [],
   "source": [
    "visitas = pd.read_csv('datos/visits_log_us.csv')"
   ]
  },
  {
   "cell_type": "code",
   "execution_count": 30,
   "id": "33a050c7",
   "metadata": {},
   "outputs": [],
   "source": [
    "pedidos = pd.read_csv('datos/orders_log_us.csv')"
   ]
  },
  {
   "cell_type": "code",
   "execution_count": 31,
   "id": "5fbfe04f",
   "metadata": {},
   "outputs": [],
   "source": [
    "gastos = pd.read_csv('datos/costs_us.csv')"
   ]
  },
  {
   "cell_type": "markdown",
   "id": "8f29b2a9",
   "metadata": {},
   "source": [
    "VISITAS "
   ]
  },
  {
   "cell_type": "code",
   "execution_count": 32,
   "id": "cd6c7574",
   "metadata": {},
   "outputs": [
    {
     "name": "stdout",
     "output_type": "stream",
     "text": [
      "<class 'pandas.core.frame.DataFrame'>\n",
      "RangeIndex: 359400 entries, 0 to 359399\n",
      "Data columns (total 5 columns):\n",
      " #   Column     Non-Null Count   Dtype \n",
      "---  ------     --------------   ----- \n",
      " 0   Device     359400 non-null  object\n",
      " 1   End Ts     359400 non-null  object\n",
      " 2   Source Id  359400 non-null  int64 \n",
      " 3   Start Ts   359400 non-null  object\n",
      " 4   Uid        359400 non-null  uint64\n",
      "dtypes: int64(1), object(3), uint64(1)\n",
      "memory usage: 13.7+ MB\n"
     ]
    }
   ],
   "source": [
    "visitas.info()"
   ]
  },
  {
   "cell_type": "code",
   "execution_count": 33,
   "id": "e8deb7b8",
   "metadata": {},
   "outputs": [
    {
     "data": {
      "text/html": [
       "<div>\n",
       "<style scoped>\n",
       "    .dataframe tbody tr th:only-of-type {\n",
       "        vertical-align: middle;\n",
       "    }\n",
       "\n",
       "    .dataframe tbody tr th {\n",
       "        vertical-align: top;\n",
       "    }\n",
       "\n",
       "    .dataframe thead th {\n",
       "        text-align: right;\n",
       "    }\n",
       "</style>\n",
       "<table border=\"1\" class=\"dataframe\">\n",
       "  <thead>\n",
       "    <tr style=\"text-align: right;\">\n",
       "      <th></th>\n",
       "      <th>Device</th>\n",
       "      <th>End Ts</th>\n",
       "      <th>Source Id</th>\n",
       "      <th>Start Ts</th>\n",
       "      <th>Uid</th>\n",
       "    </tr>\n",
       "  </thead>\n",
       "  <tbody>\n",
       "    <tr>\n",
       "      <th>0</th>\n",
       "      <td>touch</td>\n",
       "      <td>2017-12-20 17:38:00</td>\n",
       "      <td>4</td>\n",
       "      <td>2017-12-20 17:20:00</td>\n",
       "      <td>16879256277535980062</td>\n",
       "    </tr>\n",
       "    <tr>\n",
       "      <th>1</th>\n",
       "      <td>desktop</td>\n",
       "      <td>2018-02-19 17:21:00</td>\n",
       "      <td>2</td>\n",
       "      <td>2018-02-19 16:53:00</td>\n",
       "      <td>104060357244891740</td>\n",
       "    </tr>\n",
       "    <tr>\n",
       "      <th>2</th>\n",
       "      <td>touch</td>\n",
       "      <td>2017-07-01 01:54:00</td>\n",
       "      <td>5</td>\n",
       "      <td>2017-07-01 01:54:00</td>\n",
       "      <td>7459035603376831527</td>\n",
       "    </tr>\n",
       "    <tr>\n",
       "      <th>3</th>\n",
       "      <td>desktop</td>\n",
       "      <td>2018-05-20 11:23:00</td>\n",
       "      <td>9</td>\n",
       "      <td>2018-05-20 10:59:00</td>\n",
       "      <td>16174680259334210214</td>\n",
       "    </tr>\n",
       "    <tr>\n",
       "      <th>4</th>\n",
       "      <td>desktop</td>\n",
       "      <td>2017-12-27 14:06:00</td>\n",
       "      <td>3</td>\n",
       "      <td>2017-12-27 14:06:00</td>\n",
       "      <td>9969694820036681168</td>\n",
       "    </tr>\n",
       "  </tbody>\n",
       "</table>\n",
       "</div>"
      ],
      "text/plain": [
       "    Device               End Ts  Source Id             Start Ts  \\\n",
       "0    touch  2017-12-20 17:38:00          4  2017-12-20 17:20:00   \n",
       "1  desktop  2018-02-19 17:21:00          2  2018-02-19 16:53:00   \n",
       "2    touch  2017-07-01 01:54:00          5  2017-07-01 01:54:00   \n",
       "3  desktop  2018-05-20 11:23:00          9  2018-05-20 10:59:00   \n",
       "4  desktop  2017-12-27 14:06:00          3  2017-12-27 14:06:00   \n",
       "\n",
       "                    Uid  \n",
       "0  16879256277535980062  \n",
       "1    104060357244891740  \n",
       "2   7459035603376831527  \n",
       "3  16174680259334210214  \n",
       "4   9969694820036681168  "
      ]
     },
     "execution_count": 33,
     "metadata": {},
     "output_type": "execute_result"
    }
   ],
   "source": [
    "visitas.head()"
   ]
  },
  {
   "cell_type": "code",
   "execution_count": 34,
   "id": "383665c1",
   "metadata": {},
   "outputs": [
    {
     "name": "stdout",
     "output_type": "stream",
     "text": [
      "Device       0.0\n",
      "End Ts       0.0\n",
      "Source Id    0.0\n",
      "Start Ts     0.0\n",
      "Uid          0.0\n",
      "dtype: float64\n"
     ]
    }
   ],
   "source": [
    "porcentaje_nulos = visitas.isnull().mean() * 100\n",
    "print(porcentaje_nulos)"
   ]
  },
  {
   "cell_type": "code",
   "execution_count": 35,
   "id": "e72d2397",
   "metadata": {},
   "outputs": [],
   "source": [
    "visitas = visitas.drop_duplicates()\n",
    "visitas = visitas.reset_index(drop=True)\n"
   ]
  },
  {
   "cell_type": "code",
   "execution_count": 36,
   "id": "19cd277a",
   "metadata": {},
   "outputs": [
    {
     "data": {
      "text/html": [
       "<div>\n",
       "<style scoped>\n",
       "    .dataframe tbody tr th:only-of-type {\n",
       "        vertical-align: middle;\n",
       "    }\n",
       "\n",
       "    .dataframe tbody tr th {\n",
       "        vertical-align: top;\n",
       "    }\n",
       "\n",
       "    .dataframe thead th {\n",
       "        text-align: right;\n",
       "    }\n",
       "</style>\n",
       "<table border=\"1\" class=\"dataframe\">\n",
       "  <thead>\n",
       "    <tr style=\"text-align: right;\">\n",
       "      <th></th>\n",
       "      <th>Device</th>\n",
       "      <th>End Ts</th>\n",
       "      <th>Source Id</th>\n",
       "      <th>Start Ts</th>\n",
       "      <th>Uid</th>\n",
       "    </tr>\n",
       "  </thead>\n",
       "  <tbody>\n",
       "    <tr>\n",
       "      <th>0</th>\n",
       "      <td>touch</td>\n",
       "      <td>2017-12-20 17:38:00</td>\n",
       "      <td>4</td>\n",
       "      <td>2017-12-20 17:20:00</td>\n",
       "      <td>16879256277535980062</td>\n",
       "    </tr>\n",
       "    <tr>\n",
       "      <th>1</th>\n",
       "      <td>desktop</td>\n",
       "      <td>2018-02-19 17:21:00</td>\n",
       "      <td>2</td>\n",
       "      <td>2018-02-19 16:53:00</td>\n",
       "      <td>104060357244891740</td>\n",
       "    </tr>\n",
       "    <tr>\n",
       "      <th>2</th>\n",
       "      <td>touch</td>\n",
       "      <td>2017-07-01 01:54:00</td>\n",
       "      <td>5</td>\n",
       "      <td>2017-07-01 01:54:00</td>\n",
       "      <td>7459035603376831527</td>\n",
       "    </tr>\n",
       "    <tr>\n",
       "      <th>3</th>\n",
       "      <td>desktop</td>\n",
       "      <td>2018-05-20 11:23:00</td>\n",
       "      <td>9</td>\n",
       "      <td>2018-05-20 10:59:00</td>\n",
       "      <td>16174680259334210214</td>\n",
       "    </tr>\n",
       "    <tr>\n",
       "      <th>4</th>\n",
       "      <td>desktop</td>\n",
       "      <td>2017-12-27 14:06:00</td>\n",
       "      <td>3</td>\n",
       "      <td>2017-12-27 14:06:00</td>\n",
       "      <td>9969694820036681168</td>\n",
       "    </tr>\n",
       "  </tbody>\n",
       "</table>\n",
       "</div>"
      ],
      "text/plain": [
       "    Device               End Ts  Source Id             Start Ts  \\\n",
       "0    touch  2017-12-20 17:38:00          4  2017-12-20 17:20:00   \n",
       "1  desktop  2018-02-19 17:21:00          2  2018-02-19 16:53:00   \n",
       "2    touch  2017-07-01 01:54:00          5  2017-07-01 01:54:00   \n",
       "3  desktop  2018-05-20 11:23:00          9  2018-05-20 10:59:00   \n",
       "4  desktop  2017-12-27 14:06:00          3  2017-12-27 14:06:00   \n",
       "\n",
       "                    Uid  \n",
       "0  16879256277535980062  \n",
       "1    104060357244891740  \n",
       "2   7459035603376831527  \n",
       "3  16174680259334210214  \n",
       "4   9969694820036681168  "
      ]
     },
     "execution_count": 36,
     "metadata": {},
     "output_type": "execute_result"
    }
   ],
   "source": [
    "visitas.head()"
   ]
  },
  {
   "cell_type": "markdown",
   "id": "9fc1c639",
   "metadata": {},
   "source": [
    "Convertiremos las columnas 'Start Ts' y 'End Ts' a formato datetime para poder trabajar con ellas"
   ]
  },
  {
   "cell_type": "code",
   "execution_count": 37,
   "id": "07b6275b",
   "metadata": {},
   "outputs": [
    {
     "name": "stdout",
     "output_type": "stream",
     "text": [
      "Start Ts    datetime64[ns]\n",
      "End Ts      datetime64[ns]\n",
      "dtype: object\n"
     ]
    }
   ],
   "source": [
    "visitas['Start Ts'] = pd.to_datetime(visitas['Start Ts'])\n",
    "visitas['End Ts'] = pd.to_datetime(visitas['End Ts'])\n",
    "print(visitas[['Start Ts', 'End Ts']].dtypes)\n"
   ]
  },
  {
   "cell_type": "markdown",
   "id": "e5a67051",
   "metadata": {},
   "source": [
    "Ahora Trabajaremos para encontrar la cantidad de usuarios por día, semana, mes"
   ]
  },
  {
   "cell_type": "code",
   "execution_count": 38,
   "id": "74a718c5",
   "metadata": {},
   "outputs": [
    {
     "name": "stdout",
     "output_type": "stream",
     "text": [
      "Start Ts\n",
      "2017-06-01    605\n",
      "2017-06-02    608\n",
      "2017-06-03    445\n",
      "2017-06-04    476\n",
      "2017-06-05    820\n",
      "Name: Uid, dtype: int64\n",
      "Start Ts\n",
      "2017-05-29/2017-06-04    2021\n",
      "2017-06-05/2017-06-11    4129\n",
      "2017-06-12/2017-06-18    2812\n",
      "2017-06-19/2017-06-25    2878\n",
      "2017-06-26/2017-07-02    3064\n",
      "Freq: W-SUN, Name: Uid, dtype: int64\n",
      "Start Ts\n",
      "2017-06    13259\n",
      "2017-07    14183\n",
      "2017-08    11631\n",
      "2017-09    18975\n",
      "2017-10    29692\n",
      "Freq: M, Name: Uid, dtype: int64\n"
     ]
    }
   ],
   "source": [
    "u_dia = visitas.groupby(visitas['Start Ts'].dt.date)['Uid'].nunique()\n",
    "u_semana = visitas.groupby(visitas['Start Ts'].dt.to_period('W'))['Uid'].nunique()\n",
    "u_mes = visitas.groupby(visitas['Start Ts'].dt.to_period('M'))['Uid'].nunique()\n",
    "\n",
    "print(u_dia.head(5))\n",
    "print(u_semana.head(5))\n",
    "print(u_mes.head(5))"
   ]
  },
  {
   "cell_type": "markdown",
   "id": "0fd724bc",
   "metadata": {},
   "source": [
    "Revisaremos cuantas sesiones se realizan por día."
   ]
  },
  {
   "cell_type": "code",
   "execution_count": 39,
   "id": "ca9d7194",
   "metadata": {},
   "outputs": [
    {
     "name": "stdout",
     "output_type": "stream",
     "text": [
      "Sesiones por dia:\n",
      " Start Ts\n",
      "2017-06-01    664\n",
      "2017-06-02    658\n",
      "2017-06-03    477\n",
      "2017-06-04    510\n",
      "2017-06-05    893\n",
      "Name: Uid, dtype: int64\n"
     ]
    }
   ],
   "source": [
    "ses_por_dia = visitas.groupby(visitas['Start Ts'].dt.date)['Uid'].count()\n",
    "print(\"Sesiones por dia:\\n\", ses_por_dia.head(5))"
   ]
  },
  {
   "cell_type": "markdown",
   "id": "9115646f",
   "metadata": {},
   "source": [
    "Revisaremos si un usuario ingresa más de una vez"
   ]
  },
  {
   "cell_type": "code",
   "execution_count": 40,
   "id": "50e306c5",
   "metadata": {},
   "outputs": [
    {
     "name": "stdout",
     "output_type": "stream",
     "text": [
      "Usuarios con más de una Sesios por Día:\n",
      " Uid\n",
      "313578113262317         3\n",
      "325320750514679         2\n",
      "526778907996220         4\n",
      "577434573913691         2\n",
      "1260655184775459        4\n",
      "                       ..\n",
      "18445884613277162497    3\n",
      "18446104389491815722    2\n",
      "18446156210226471712    7\n",
      "18446167067214817906    2\n",
      "18446621818809592527    2\n",
      "Name: Start Ts, Length: 52128, dtype: int64\n"
     ]
    }
   ],
   "source": [
    "ses_por_us = visitas.groupby('Uid')['Start Ts'].count()\n",
    "multiple_ses_us = ses_por_us[ses_por_us > 1]\n",
    "\n",
    "print(\"Usuarios con más de una Sesios por Día:\\n\", multiple_ses_us)\n"
   ]
  },
  {
   "cell_type": "markdown",
   "id": "8d3d9b03",
   "metadata": {},
   "source": [
    "Vamos a revisar cuanto dura cada sesión del visitante"
   ]
  },
  {
   "cell_type": "code",
   "execution_count": 41,
   "id": "84cd1a8d",
   "metadata": {},
   "outputs": [
    {
     "name": "stdout",
     "output_type": "stream",
     "text": [
      "Duracion de Cada Sesion:\n",
      " 0        0 days 00:18:00\n",
      "1        0 days 00:28:00\n",
      "2        0 days 00:00:00\n",
      "3        0 days 00:24:00\n",
      "4        0 days 00:00:00\n",
      "               ...      \n",
      "359395   0 days 00:00:19\n",
      "359396   0 days 00:00:19\n",
      "359397   0 days 00:00:19\n",
      "359398   0 days 00:00:19\n",
      "359399   0 days 00:00:19\n",
      "Name: duracion, Length: 359400, dtype: timedelta64[ns]\n"
     ]
    }
   ],
   "source": [
    "visitas['duracion'] = visitas['End Ts'] - visitas['Start Ts']\n",
    "print(\"Duracion de Cada Sesion:\\n\", visitas['duracion'])"
   ]
  },
  {
   "cell_type": "markdown",
   "id": "29ddad9b",
   "metadata": {},
   "source": [
    "Revisaremos con que frecuencia regresa al sitio cada usuario"
   ]
  },
  {
   "cell_type": "code",
   "execution_count": 42,
   "id": "4f1b17ce",
   "metadata": {},
   "outputs": [
    {
     "name": "stdout",
     "output_type": "stream",
     "text": [
      "196543                 NaT\n",
      "257333                 NaT\n",
      "173818                 NaT\n",
      "173142                 NaT\n",
      "192554   152 days 16:28:00\n",
      "                ...       \n",
      "175259                 NaT\n",
      "293449                 NaT\n",
      "319162                 NaT\n",
      "222173   144 days 20:03:00\n",
      "132805                 NaT\n",
      "Name: Start Ts, Length: 359400, dtype: timedelta64[ns]\n"
     ]
    }
   ],
   "source": [
    "\n",
    "visitas = visitas.sort_values(by=['Uid','Start Ts'])\n",
    "frecuencia_regreso = visitas.groupby('Uid')['Start Ts'].diff()\n",
    "print(frecuencia_regreso)"
   ]
  },
  {
   "cell_type": "markdown",
   "id": "15c6cd8c",
   "metadata": {},
   "source": [
    "PEDIDOS"
   ]
  },
  {
   "cell_type": "code",
   "execution_count": 43,
   "id": "8bbcf389",
   "metadata": {},
   "outputs": [
    {
     "name": "stdout",
     "output_type": "stream",
     "text": [
      "<class 'pandas.core.frame.DataFrame'>\n",
      "RangeIndex: 50415 entries, 0 to 50414\n",
      "Data columns (total 3 columns):\n",
      " #   Column   Non-Null Count  Dtype  \n",
      "---  ------   --------------  -----  \n",
      " 0   Buy Ts   50415 non-null  object \n",
      " 1   Revenue  50415 non-null  float64\n",
      " 2   Uid      50415 non-null  uint64 \n",
      "dtypes: float64(1), object(1), uint64(1)\n",
      "memory usage: 1.2+ MB\n"
     ]
    }
   ],
   "source": [
    "pedidos.info()"
   ]
  },
  {
   "cell_type": "code",
   "execution_count": 44,
   "id": "fb767db2",
   "metadata": {},
   "outputs": [
    {
     "data": {
      "text/html": [
       "<div>\n",
       "<style scoped>\n",
       "    .dataframe tbody tr th:only-of-type {\n",
       "        vertical-align: middle;\n",
       "    }\n",
       "\n",
       "    .dataframe tbody tr th {\n",
       "        vertical-align: top;\n",
       "    }\n",
       "\n",
       "    .dataframe thead th {\n",
       "        text-align: right;\n",
       "    }\n",
       "</style>\n",
       "<table border=\"1\" class=\"dataframe\">\n",
       "  <thead>\n",
       "    <tr style=\"text-align: right;\">\n",
       "      <th></th>\n",
       "      <th>Buy Ts</th>\n",
       "      <th>Revenue</th>\n",
       "      <th>Uid</th>\n",
       "    </tr>\n",
       "  </thead>\n",
       "  <tbody>\n",
       "    <tr>\n",
       "      <th>0</th>\n",
       "      <td>2017-06-01 00:10:00</td>\n",
       "      <td>17.00</td>\n",
       "      <td>10329302124590727494</td>\n",
       "    </tr>\n",
       "    <tr>\n",
       "      <th>1</th>\n",
       "      <td>2017-06-01 00:25:00</td>\n",
       "      <td>0.55</td>\n",
       "      <td>11627257723692907447</td>\n",
       "    </tr>\n",
       "    <tr>\n",
       "      <th>2</th>\n",
       "      <td>2017-06-01 00:27:00</td>\n",
       "      <td>0.37</td>\n",
       "      <td>17903680561304213844</td>\n",
       "    </tr>\n",
       "    <tr>\n",
       "      <th>3</th>\n",
       "      <td>2017-06-01 00:29:00</td>\n",
       "      <td>0.55</td>\n",
       "      <td>16109239769442553005</td>\n",
       "    </tr>\n",
       "    <tr>\n",
       "      <th>4</th>\n",
       "      <td>2017-06-01 07:58:00</td>\n",
       "      <td>0.37</td>\n",
       "      <td>14200605875248379450</td>\n",
       "    </tr>\n",
       "  </tbody>\n",
       "</table>\n",
       "</div>"
      ],
      "text/plain": [
       "                Buy Ts  Revenue                   Uid\n",
       "0  2017-06-01 00:10:00    17.00  10329302124590727494\n",
       "1  2017-06-01 00:25:00     0.55  11627257723692907447\n",
       "2  2017-06-01 00:27:00     0.37  17903680561304213844\n",
       "3  2017-06-01 00:29:00     0.55  16109239769442553005\n",
       "4  2017-06-01 07:58:00     0.37  14200605875248379450"
      ]
     },
     "execution_count": 44,
     "metadata": {},
     "output_type": "execute_result"
    }
   ],
   "source": [
    "pedidos.head(5)"
   ]
  },
  {
   "cell_type": "code",
   "execution_count": 45,
   "id": "97fd0e87",
   "metadata": {},
   "outputs": [
    {
     "name": "stdout",
     "output_type": "stream",
     "text": [
      "Buy Ts     0\n",
      "Revenue    0\n",
      "Uid        0\n",
      "dtype: int64\n"
     ]
    }
   ],
   "source": [
    "print(pedidos.isnull().sum())"
   ]
  },
  {
   "cell_type": "code",
   "execution_count": 46,
   "id": "9fe860b1",
   "metadata": {},
   "outputs": [],
   "source": [
    "pedidos = pedidos.drop_duplicates()\n",
    "pedidos = pedidos.reset_index(drop=True)"
   ]
  },
  {
   "cell_type": "markdown",
   "id": "11a1aca9",
   "metadata": {},
   "source": [
    "Convertiremos la columna 'Buy Ts' a formato datetime para poder trabajar con ella"
   ]
  },
  {
   "cell_type": "code",
   "execution_count": 47,
   "id": "b084b668",
   "metadata": {},
   "outputs": [
    {
     "name": "stdout",
     "output_type": "stream",
     "text": [
      "datetime64[ns]\n"
     ]
    }
   ],
   "source": [
    "pedidos['Buy Ts'] = pd.to_datetime(pedidos['Buy Ts'])\n",
    "print(pedidos['Buy Ts'].dtypes)\n"
   ]
  },
  {
   "cell_type": "markdown",
   "id": "8b3cf1ac",
   "metadata": {},
   "source": [
    "Vamos a obtener la primera Orden"
   ]
  },
  {
   "cell_type": "code",
   "execution_count": 48,
   "id": "3ed8038e",
   "metadata": {},
   "outputs": [
    {
     "name": "stdout",
     "output_type": "stream",
     "text": [
      "Uid\n",
      "313578113262317    2018-01-03 21:51:00\n",
      "1575281904278712   2017-06-03 10:13:00\n",
      "2429014661409475   2017-10-11 18:33:00\n",
      "2464366381792757   2018-01-28 15:54:00\n",
      "2551852515556206   2017-11-24 10:14:00\n",
      "Name: Buy Ts, dtype: datetime64[ns]\n"
     ]
    }
   ],
   "source": [
    "primera_orden = pedidos.groupby('Uid')['Buy Ts'].min()\n",
    "print(primera_orden.head())"
   ]
  },
  {
   "cell_type": "markdown",
   "id": "b4bc1983",
   "metadata": {},
   "source": [
    "Vamos a obtener la primera compra"
   ]
  },
  {
   "cell_type": "code",
   "execution_count": 49,
   "id": "86b068f9",
   "metadata": {},
   "outputs": [
    {
     "name": "stdout",
     "output_type": "stream",
     "text": [
      "               Buy Ts  Revenue                   Uid      primera_compra\n",
      "0 2017-06-01 00:10:00    17.00  10329302124590727494 2017-06-01 00:10:00\n",
      "1 2017-06-01 00:25:00     0.55  11627257723692907447 2017-06-01 00:25:00\n",
      "2 2017-06-01 00:27:00     0.37  17903680561304213844 2017-06-01 00:27:00\n",
      "3 2017-06-01 00:29:00     0.55  16109239769442553005 2017-06-01 00:29:00\n",
      "4 2017-06-01 07:58:00     0.37  14200605875248379450 2017-06-01 07:58:00\n"
     ]
    }
   ],
   "source": [
    "primera_orden = primera_orden.to_frame(name='primera_compra')\n",
    "pedidos = pedidos.merge(primera_orden, left_on='Uid', right_index=True, how='left')\n",
    "print(pedidos.head())"
   ]
  },
  {
   "cell_type": "markdown",
   "id": "a6cc0137",
   "metadata": {},
   "source": [
    "Vamos a trabajar para obtener los cohortes Mensual"
   ]
  },
  {
   "cell_type": "code",
   "execution_count": 50,
   "id": "e808e791",
   "metadata": {},
   "outputs": [
    {
     "name": "stdout",
     "output_type": "stream",
     "text": [
      "               Buy Ts  Revenue                   Uid      primera_compra  \\\n",
      "0 2017-06-01 00:10:00    17.00  10329302124590727494 2017-06-01 00:10:00   \n",
      "1 2017-06-01 00:25:00     0.55  11627257723692907447 2017-06-01 00:25:00   \n",
      "2 2017-06-01 00:27:00     0.37  17903680561304213844 2017-06-01 00:27:00   \n",
      "3 2017-06-01 00:29:00     0.55  16109239769442553005 2017-06-01 00:29:00   \n",
      "4 2017-06-01 07:58:00     0.37  14200605875248379450 2017-06-01 07:58:00   \n",
      "\n",
      "  primera_orden_mes orden_mes  \n",
      "0           2017-06   2017-06  \n",
      "1           2017-06   2017-06  \n",
      "2           2017-06   2017-06  \n",
      "3           2017-06   2017-06  \n",
      "4           2017-06   2017-06  \n"
     ]
    }
   ],
   "source": [
    "pedidos['primera_compra'] = pd.to_datetime(pedidos['primera_compra'], errors='coerce')\n",
    "pedidos['Buy Ts'] = pd.to_datetime(pedidos['Buy Ts'], errors='coerce')\n",
    "pedidos['primera_orden_mes'] = pedidos['primera_compra'].dt.to_period('M')\n",
    "pedidos['orden_mes'] = pedidos['Buy Ts'].dt.to_period('M')\n",
    "print(pedidos.head())"
   ]
  },
  {
   "cell_type": "markdown",
   "id": "f343a157",
   "metadata": {},
   "source": [
    "Analizaremos las compras mensuales de cada Cohort"
   ]
  },
  {
   "cell_type": "code",
   "execution_count": 51,
   "id": "aa969cb1",
   "metadata": {},
   "outputs": [
    {
     "name": "stdout",
     "output_type": "stream",
     "text": [
      "                    Uid   Revenue\n",
      "primera_orden_mes                \n",
      "2017-06            2023  24031.69\n",
      "2017-07            1923  16127.92\n",
      "2017-08            1370  11606.26\n",
      "2017-09            2581  34676.32\n",
      "2017-10            4340  27603.45\n"
     ]
    }
   ],
   "source": [
    "grupo_cohort = pedidos.groupby('primera_orden_mes').agg({'Uid': 'nunique', 'Revenue': 'sum'})\n",
    "print(grupo_cohort.head())"
   ]
  },
  {
   "cell_type": "markdown",
   "id": "82c4c9e5",
   "metadata": {},
   "source": [
    "Podemos observar que los ingresos por cohortes bajaron, se recuperaron pero nuevamente bajaron y otra vez hay un repunte"
   ]
  },
  {
   "cell_type": "markdown",
   "id": "704d8daa",
   "metadata": {},
   "source": [
    "Realizaremos una tabla Dinámica para conocer que clientes siguen realizando compras despues de que realizaron la primera"
   ]
  },
  {
   "cell_type": "code",
   "execution_count": 52,
   "id": "40507f7c",
   "metadata": {},
   "outputs": [
    {
     "data": {
      "text/html": [
       "<div>\n",
       "<style scoped>\n",
       "    .dataframe tbody tr th:only-of-type {\n",
       "        vertical-align: middle;\n",
       "    }\n",
       "\n",
       "    .dataframe tbody tr th {\n",
       "        vertical-align: top;\n",
       "    }\n",
       "\n",
       "    .dataframe thead th {\n",
       "        text-align: right;\n",
       "    }\n",
       "</style>\n",
       "<table border=\"1\" class=\"dataframe\">\n",
       "  <thead>\n",
       "    <tr style=\"text-align: right;\">\n",
       "      <th>orden_mes</th>\n",
       "      <th>2017-06</th>\n",
       "      <th>2017-07</th>\n",
       "      <th>2017-08</th>\n",
       "      <th>2017-09</th>\n",
       "      <th>2017-10</th>\n",
       "      <th>2017-11</th>\n",
       "      <th>2017-12</th>\n",
       "      <th>2018-01</th>\n",
       "      <th>2018-02</th>\n",
       "      <th>2018-03</th>\n",
       "      <th>2018-04</th>\n",
       "      <th>2018-05</th>\n",
       "      <th>2018-06</th>\n",
       "    </tr>\n",
       "    <tr>\n",
       "      <th>primera_orden_mes</th>\n",
       "      <th></th>\n",
       "      <th></th>\n",
       "      <th></th>\n",
       "      <th></th>\n",
       "      <th></th>\n",
       "      <th></th>\n",
       "      <th></th>\n",
       "      <th></th>\n",
       "      <th></th>\n",
       "      <th></th>\n",
       "      <th></th>\n",
       "      <th></th>\n",
       "      <th></th>\n",
       "    </tr>\n",
       "  </thead>\n",
       "  <tbody>\n",
       "    <tr>\n",
       "      <th>2017-06</th>\n",
       "      <td>2023.0</td>\n",
       "      <td>61.0</td>\n",
       "      <td>50.0</td>\n",
       "      <td>54.0</td>\n",
       "      <td>88.0</td>\n",
       "      <td>67.0</td>\n",
       "      <td>62.0</td>\n",
       "      <td>47.0</td>\n",
       "      <td>58.0</td>\n",
       "      <td>45.0</td>\n",
       "      <td>45.0</td>\n",
       "      <td>53.0</td>\n",
       "      <td>NaN</td>\n",
       "    </tr>\n",
       "    <tr>\n",
       "      <th>2017-07</th>\n",
       "      <td>NaN</td>\n",
       "      <td>1923.0</td>\n",
       "      <td>52.0</td>\n",
       "      <td>57.0</td>\n",
       "      <td>64.0</td>\n",
       "      <td>49.0</td>\n",
       "      <td>38.0</td>\n",
       "      <td>36.0</td>\n",
       "      <td>39.0</td>\n",
       "      <td>42.0</td>\n",
       "      <td>22.0</td>\n",
       "      <td>26.0</td>\n",
       "      <td>NaN</td>\n",
       "    </tr>\n",
       "    <tr>\n",
       "      <th>2017-08</th>\n",
       "      <td>NaN</td>\n",
       "      <td>NaN</td>\n",
       "      <td>1370.0</td>\n",
       "      <td>58.0</td>\n",
       "      <td>53.0</td>\n",
       "      <td>44.0</td>\n",
       "      <td>40.0</td>\n",
       "      <td>32.0</td>\n",
       "      <td>30.0</td>\n",
       "      <td>44.0</td>\n",
       "      <td>19.0</td>\n",
       "      <td>31.0</td>\n",
       "      <td>NaN</td>\n",
       "    </tr>\n",
       "    <tr>\n",
       "      <th>2017-09</th>\n",
       "      <td>NaN</td>\n",
       "      <td>NaN</td>\n",
       "      <td>NaN</td>\n",
       "      <td>2581.0</td>\n",
       "      <td>130.0</td>\n",
       "      <td>100.0</td>\n",
       "      <td>74.0</td>\n",
       "      <td>52.0</td>\n",
       "      <td>64.0</td>\n",
       "      <td>66.0</td>\n",
       "      <td>37.0</td>\n",
       "      <td>43.0</td>\n",
       "      <td>NaN</td>\n",
       "    </tr>\n",
       "    <tr>\n",
       "      <th>2017-10</th>\n",
       "      <td>NaN</td>\n",
       "      <td>NaN</td>\n",
       "      <td>NaN</td>\n",
       "      <td>NaN</td>\n",
       "      <td>4340.0</td>\n",
       "      <td>206.0</td>\n",
       "      <td>123.0</td>\n",
       "      <td>92.0</td>\n",
       "      <td>93.0</td>\n",
       "      <td>72.0</td>\n",
       "      <td>56.0</td>\n",
       "      <td>67.0</td>\n",
       "      <td>NaN</td>\n",
       "    </tr>\n",
       "    <tr>\n",
       "      <th>2017-11</th>\n",
       "      <td>NaN</td>\n",
       "      <td>NaN</td>\n",
       "      <td>NaN</td>\n",
       "      <td>NaN</td>\n",
       "      <td>NaN</td>\n",
       "      <td>4081.0</td>\n",
       "      <td>222.0</td>\n",
       "      <td>120.0</td>\n",
       "      <td>106.0</td>\n",
       "      <td>81.0</td>\n",
       "      <td>48.0</td>\n",
       "      <td>62.0</td>\n",
       "      <td>NaN</td>\n",
       "    </tr>\n",
       "    <tr>\n",
       "      <th>2017-12</th>\n",
       "      <td>NaN</td>\n",
       "      <td>NaN</td>\n",
       "      <td>NaN</td>\n",
       "      <td>NaN</td>\n",
       "      <td>NaN</td>\n",
       "      <td>NaN</td>\n",
       "      <td>4383.0</td>\n",
       "      <td>146.0</td>\n",
       "      <td>103.0</td>\n",
       "      <td>97.0</td>\n",
       "      <td>50.0</td>\n",
       "      <td>63.0</td>\n",
       "      <td>NaN</td>\n",
       "    </tr>\n",
       "    <tr>\n",
       "      <th>2018-01</th>\n",
       "      <td>NaN</td>\n",
       "      <td>NaN</td>\n",
       "      <td>NaN</td>\n",
       "      <td>NaN</td>\n",
       "      <td>NaN</td>\n",
       "      <td>NaN</td>\n",
       "      <td>NaN</td>\n",
       "      <td>3373.0</td>\n",
       "      <td>114.0</td>\n",
       "      <td>83.0</td>\n",
       "      <td>43.0</td>\n",
       "      <td>45.0</td>\n",
       "      <td>NaN</td>\n",
       "    </tr>\n",
       "    <tr>\n",
       "      <th>2018-02</th>\n",
       "      <td>NaN</td>\n",
       "      <td>NaN</td>\n",
       "      <td>NaN</td>\n",
       "      <td>NaN</td>\n",
       "      <td>NaN</td>\n",
       "      <td>NaN</td>\n",
       "      <td>NaN</td>\n",
       "      <td>NaN</td>\n",
       "      <td>3651.0</td>\n",
       "      <td>118.0</td>\n",
       "      <td>58.0</td>\n",
       "      <td>39.0</td>\n",
       "      <td>NaN</td>\n",
       "    </tr>\n",
       "    <tr>\n",
       "      <th>2018-03</th>\n",
       "      <td>NaN</td>\n",
       "      <td>NaN</td>\n",
       "      <td>NaN</td>\n",
       "      <td>NaN</td>\n",
       "      <td>NaN</td>\n",
       "      <td>NaN</td>\n",
       "      <td>NaN</td>\n",
       "      <td>NaN</td>\n",
       "      <td>NaN</td>\n",
       "      <td>3533.0</td>\n",
       "      <td>90.0</td>\n",
       "      <td>58.0</td>\n",
       "      <td>NaN</td>\n",
       "    </tr>\n",
       "    <tr>\n",
       "      <th>2018-04</th>\n",
       "      <td>NaN</td>\n",
       "      <td>NaN</td>\n",
       "      <td>NaN</td>\n",
       "      <td>NaN</td>\n",
       "      <td>NaN</td>\n",
       "      <td>NaN</td>\n",
       "      <td>NaN</td>\n",
       "      <td>NaN</td>\n",
       "      <td>NaN</td>\n",
       "      <td>NaN</td>\n",
       "      <td>2276.0</td>\n",
       "      <td>69.0</td>\n",
       "      <td>NaN</td>\n",
       "    </tr>\n",
       "    <tr>\n",
       "      <th>2018-05</th>\n",
       "      <td>NaN</td>\n",
       "      <td>NaN</td>\n",
       "      <td>NaN</td>\n",
       "      <td>NaN</td>\n",
       "      <td>NaN</td>\n",
       "      <td>NaN</td>\n",
       "      <td>NaN</td>\n",
       "      <td>NaN</td>\n",
       "      <td>NaN</td>\n",
       "      <td>NaN</td>\n",
       "      <td>NaN</td>\n",
       "      <td>2988.0</td>\n",
       "      <td>NaN</td>\n",
       "    </tr>\n",
       "    <tr>\n",
       "      <th>2018-06</th>\n",
       "      <td>NaN</td>\n",
       "      <td>NaN</td>\n",
       "      <td>NaN</td>\n",
       "      <td>NaN</td>\n",
       "      <td>NaN</td>\n",
       "      <td>NaN</td>\n",
       "      <td>NaN</td>\n",
       "      <td>NaN</td>\n",
       "      <td>NaN</td>\n",
       "      <td>NaN</td>\n",
       "      <td>NaN</td>\n",
       "      <td>NaN</td>\n",
       "      <td>1.0</td>\n",
       "    </tr>\n",
       "  </tbody>\n",
       "</table>\n",
       "</div>"
      ],
      "text/plain": [
       "orden_mes          2017-06  2017-07  2017-08  2017-09  2017-10  2017-11  \\\n",
       "primera_orden_mes                                                         \n",
       "2017-06             2023.0     61.0     50.0     54.0     88.0     67.0   \n",
       "2017-07                NaN   1923.0     52.0     57.0     64.0     49.0   \n",
       "2017-08                NaN      NaN   1370.0     58.0     53.0     44.0   \n",
       "2017-09                NaN      NaN      NaN   2581.0    130.0    100.0   \n",
       "2017-10                NaN      NaN      NaN      NaN   4340.0    206.0   \n",
       "2017-11                NaN      NaN      NaN      NaN      NaN   4081.0   \n",
       "2017-12                NaN      NaN      NaN      NaN      NaN      NaN   \n",
       "2018-01                NaN      NaN      NaN      NaN      NaN      NaN   \n",
       "2018-02                NaN      NaN      NaN      NaN      NaN      NaN   \n",
       "2018-03                NaN      NaN      NaN      NaN      NaN      NaN   \n",
       "2018-04                NaN      NaN      NaN      NaN      NaN      NaN   \n",
       "2018-05                NaN      NaN      NaN      NaN      NaN      NaN   \n",
       "2018-06                NaN      NaN      NaN      NaN      NaN      NaN   \n",
       "\n",
       "orden_mes          2017-12  2018-01  2018-02  2018-03  2018-04  2018-05  \\\n",
       "primera_orden_mes                                                         \n",
       "2017-06               62.0     47.0     58.0     45.0     45.0     53.0   \n",
       "2017-07               38.0     36.0     39.0     42.0     22.0     26.0   \n",
       "2017-08               40.0     32.0     30.0     44.0     19.0     31.0   \n",
       "2017-09               74.0     52.0     64.0     66.0     37.0     43.0   \n",
       "2017-10              123.0     92.0     93.0     72.0     56.0     67.0   \n",
       "2017-11              222.0    120.0    106.0     81.0     48.0     62.0   \n",
       "2017-12             4383.0    146.0    103.0     97.0     50.0     63.0   \n",
       "2018-01                NaN   3373.0    114.0     83.0     43.0     45.0   \n",
       "2018-02                NaN      NaN   3651.0    118.0     58.0     39.0   \n",
       "2018-03                NaN      NaN      NaN   3533.0     90.0     58.0   \n",
       "2018-04                NaN      NaN      NaN      NaN   2276.0     69.0   \n",
       "2018-05                NaN      NaN      NaN      NaN      NaN   2988.0   \n",
       "2018-06                NaN      NaN      NaN      NaN      NaN      NaN   \n",
       "\n",
       "orden_mes          2018-06  \n",
       "primera_orden_mes           \n",
       "2017-06                NaN  \n",
       "2017-07                NaN  \n",
       "2017-08                NaN  \n",
       "2017-09                NaN  \n",
       "2017-10                NaN  \n",
       "2017-11                NaN  \n",
       "2017-12                NaN  \n",
       "2018-01                NaN  \n",
       "2018-02                NaN  \n",
       "2018-03                NaN  \n",
       "2018-04                NaN  \n",
       "2018-05                NaN  \n",
       "2018-06                1.0  "
      ]
     },
     "execution_count": 52,
     "metadata": {},
     "output_type": "execute_result"
    }
   ],
   "source": [
    "pedidos.pivot_table(\n",
    "    index='primera_orden_mes',\n",
    "    columns='orden_mes',\n",
    "    values='Uid',\n",
    "    aggfunc='nunique',)"
   ]
  },
  {
   "cell_type": "markdown",
   "id": "dca6fec4",
   "metadata": {},
   "source": [
    "Haremos un Gráfico de Lineas\n"
   ]
  },
  {
   "cell_type": "markdown",
   "id": "6f87d53a",
   "metadata": {},
   "source": [
    "Existe una disminución de clientes despues del primer mes, luego se recupera y nuevamente hay una caida y otra vez se recupera."
   ]
  },
  {
   "cell_type": "markdown",
   "id": "1d78cc59",
   "metadata": {},
   "source": [
    "Haremos un gráfico de lineas"
   ]
  },
  {
   "cell_type": "markdown",
   "id": "1b27a45a",
   "metadata": {},
   "source": [
    "Vamos a calcular el promedio de compra(ingresos)"
   ]
  },
  {
   "cell_type": "code",
   "execution_count": 53,
   "id": "3640a500",
   "metadata": {},
   "outputs": [
    {
     "name": "stdout",
     "output_type": "stream",
     "text": [
      "                             Revenue   Uid\n",
      "primera_orden_mes orden_mes               \n",
      "2017-06           2017-06    9557.49  2023\n",
      "                  2017-07     981.82    61\n",
      "                  2017-08     885.34    50\n",
      "                  2017-09    1931.30    54\n",
      "                  2017-10    2068.58    88\n"
     ]
    }
   ],
   "source": [
    "pedidos_agrupados_cohorts = pedidos.groupby( ['primera_orden_mes', 'orden_mes']).agg({'Revenue': 'sum', 'Uid': 'nunique'})\n",
    "print(pedidos_agrupados_cohorts.head())"
   ]
  },
  {
   "cell_type": "code",
   "execution_count": 54,
   "id": "d1cf4251",
   "metadata": {},
   "outputs": [
    {
     "data": {
      "text/plain": [
       "Index(['Revenue', 'Uid'], dtype='object')"
      ]
     },
     "execution_count": 54,
     "metadata": {},
     "output_type": "execute_result"
    }
   ],
   "source": [
    "pedidos_agrupados_cohorts.columns"
   ]
  },
  {
   "cell_type": "markdown",
   "id": "2ff9115d",
   "metadata": {},
   "source": [
    "Buscaremos la compra por usuario"
   ]
  },
  {
   "cell_type": "code",
   "execution_count": 55,
   "id": "049f97ed",
   "metadata": {},
   "outputs": [],
   "source": [
    "pedidos_agrupados_cohorts['Ingreso_por_uid'] = (pedidos_agrupados_cohorts['Revenue']\n",
    "    / pedidos_agrupados_cohorts['Uid'])"
   ]
  },
  {
   "cell_type": "markdown",
   "id": "2374e180",
   "metadata": {},
   "source": [
    "Realizaremos una Tabla Dinámica para observar la compra mensual por usuario."
   ]
  },
  {
   "cell_type": "code",
   "execution_count": 56,
   "id": "bf4e1662",
   "metadata": {},
   "outputs": [
    {
     "data": {
      "text/html": [
       "<div>\n",
       "<style scoped>\n",
       "    .dataframe tbody tr th:only-of-type {\n",
       "        vertical-align: middle;\n",
       "    }\n",
       "\n",
       "    .dataframe tbody tr th {\n",
       "        vertical-align: top;\n",
       "    }\n",
       "\n",
       "    .dataframe thead th {\n",
       "        text-align: right;\n",
       "    }\n",
       "</style>\n",
       "<table border=\"1\" class=\"dataframe\">\n",
       "  <thead>\n",
       "    <tr style=\"text-align: right;\">\n",
       "      <th>orden_mes</th>\n",
       "      <th>2017-06</th>\n",
       "      <th>2017-07</th>\n",
       "      <th>2017-08</th>\n",
       "      <th>2017-09</th>\n",
       "      <th>2017-10</th>\n",
       "      <th>2017-11</th>\n",
       "      <th>2017-12</th>\n",
       "      <th>2018-01</th>\n",
       "      <th>2018-02</th>\n",
       "      <th>2018-03</th>\n",
       "      <th>2018-04</th>\n",
       "      <th>2018-05</th>\n",
       "      <th>2018-06</th>\n",
       "    </tr>\n",
       "    <tr>\n",
       "      <th>primera_orden_mes</th>\n",
       "      <th></th>\n",
       "      <th></th>\n",
       "      <th></th>\n",
       "      <th></th>\n",
       "      <th></th>\n",
       "      <th></th>\n",
       "      <th></th>\n",
       "      <th></th>\n",
       "      <th></th>\n",
       "      <th></th>\n",
       "      <th></th>\n",
       "      <th></th>\n",
       "      <th></th>\n",
       "    </tr>\n",
       "  </thead>\n",
       "  <tbody>\n",
       "    <tr>\n",
       "      <th>2017-06</th>\n",
       "      <td>4.724414</td>\n",
       "      <td>16.095410</td>\n",
       "      <td>17.706800</td>\n",
       "      <td>35.764815</td>\n",
       "      <td>23.506591</td>\n",
       "      <td>22.207761</td>\n",
       "      <td>31.011935</td>\n",
       "      <td>25.033191</td>\n",
       "      <td>19.295690</td>\n",
       "      <td>27.233556</td>\n",
       "      <td>25.681333</td>\n",
       "      <td>9.804151</td>\n",
       "      <td>NaN</td>\n",
       "    </tr>\n",
       "    <tr>\n",
       "      <th>2017-07</th>\n",
       "      <td>NaN</td>\n",
       "      <td>6.010218</td>\n",
       "      <td>12.396346</td>\n",
       "      <td>21.035965</td>\n",
       "      <td>10.786094</td>\n",
       "      <td>6.938163</td>\n",
       "      <td>7.896842</td>\n",
       "      <td>6.421111</td>\n",
       "      <td>6.992821</td>\n",
       "      <td>7.382143</td>\n",
       "      <td>12.861818</td>\n",
       "      <td>11.513846</td>\n",
       "      <td>NaN</td>\n",
       "    </tr>\n",
       "    <tr>\n",
       "      <th>2017-08</th>\n",
       "      <td>NaN</td>\n",
       "      <td>NaN</td>\n",
       "      <td>5.276518</td>\n",
       "      <td>11.148793</td>\n",
       "      <td>11.851321</td>\n",
       "      <td>12.182955</td>\n",
       "      <td>16.921250</td>\n",
       "      <td>12.139062</td>\n",
       "      <td>9.620333</td>\n",
       "      <td>12.610455</td>\n",
       "      <td>21.070000</td>\n",
       "      <td>8.307419</td>\n",
       "      <td>NaN</td>\n",
       "    </tr>\n",
       "    <tr>\n",
       "      <th>2017-09</th>\n",
       "      <td>NaN</td>\n",
       "      <td>NaN</td>\n",
       "      <td>NaN</td>\n",
       "      <td>5.644529</td>\n",
       "      <td>22.188385</td>\n",
       "      <td>13.445200</td>\n",
       "      <td>138.669189</td>\n",
       "      <td>19.881538</td>\n",
       "      <td>26.095000</td>\n",
       "      <td>27.437121</td>\n",
       "      <td>16.961351</td>\n",
       "      <td>11.044651</td>\n",
       "      <td>NaN</td>\n",
       "    </tr>\n",
       "    <tr>\n",
       "      <th>2017-10</th>\n",
       "      <td>NaN</td>\n",
       "      <td>NaN</td>\n",
       "      <td>NaN</td>\n",
       "      <td>NaN</td>\n",
       "      <td>5.003733</td>\n",
       "      <td>11.287427</td>\n",
       "      <td>6.753252</td>\n",
       "      <td>7.413152</td>\n",
       "      <td>7.072796</td>\n",
       "      <td>7.255139</td>\n",
       "      <td>6.573214</td>\n",
       "      <td>7.479701</td>\n",
       "      <td>NaN</td>\n",
       "    </tr>\n",
       "    <tr>\n",
       "      <th>2017-11</th>\n",
       "      <td>NaN</td>\n",
       "      <td>NaN</td>\n",
       "      <td>NaN</td>\n",
       "      <td>NaN</td>\n",
       "      <td>NaN</td>\n",
       "      <td>5.154683</td>\n",
       "      <td>7.339054</td>\n",
       "      <td>6.786583</td>\n",
       "      <td>12.510660</td>\n",
       "      <td>7.457284</td>\n",
       "      <td>4.580833</td>\n",
       "      <td>7.564839</td>\n",
       "      <td>NaN</td>\n",
       "    </tr>\n",
       "    <tr>\n",
       "      <th>2017-12</th>\n",
       "      <td>NaN</td>\n",
       "      <td>NaN</td>\n",
       "      <td>NaN</td>\n",
       "      <td>NaN</td>\n",
       "      <td>NaN</td>\n",
       "      <td>NaN</td>\n",
       "      <td>4.738191</td>\n",
       "      <td>7.816575</td>\n",
       "      <td>39.366019</td>\n",
       "      <td>48.135052</td>\n",
       "      <td>27.431400</td>\n",
       "      <td>23.518413</td>\n",
       "      <td>NaN</td>\n",
       "    </tr>\n",
       "    <tr>\n",
       "      <th>2018-01</th>\n",
       "      <td>NaN</td>\n",
       "      <td>NaN</td>\n",
       "      <td>NaN</td>\n",
       "      <td>NaN</td>\n",
       "      <td>NaN</td>\n",
       "      <td>NaN</td>\n",
       "      <td>NaN</td>\n",
       "      <td>4.135636</td>\n",
       "      <td>8.721228</td>\n",
       "      <td>12.365542</td>\n",
       "      <td>11.199767</td>\n",
       "      <td>4.699556</td>\n",
       "      <td>NaN</td>\n",
       "    </tr>\n",
       "    <tr>\n",
       "      <th>2018-02</th>\n",
       "      <td>NaN</td>\n",
       "      <td>NaN</td>\n",
       "      <td>NaN</td>\n",
       "      <td>NaN</td>\n",
       "      <td>NaN</td>\n",
       "      <td>NaN</td>\n",
       "      <td>NaN</td>\n",
       "      <td>NaN</td>\n",
       "      <td>4.156987</td>\n",
       "      <td>8.610000</td>\n",
       "      <td>4.942414</td>\n",
       "      <td>6.941026</td>\n",
       "      <td>NaN</td>\n",
       "    </tr>\n",
       "    <tr>\n",
       "      <th>2018-03</th>\n",
       "      <td>NaN</td>\n",
       "      <td>NaN</td>\n",
       "      <td>NaN</td>\n",
       "      <td>NaN</td>\n",
       "      <td>NaN</td>\n",
       "      <td>NaN</td>\n",
       "      <td>NaN</td>\n",
       "      <td>NaN</td>\n",
       "      <td>NaN</td>\n",
       "      <td>4.838803</td>\n",
       "      <td>11.811667</td>\n",
       "      <td>19.221897</td>\n",
       "      <td>NaN</td>\n",
       "    </tr>\n",
       "    <tr>\n",
       "      <th>2018-04</th>\n",
       "      <td>NaN</td>\n",
       "      <td>NaN</td>\n",
       "      <td>NaN</td>\n",
       "      <td>NaN</td>\n",
       "      <td>NaN</td>\n",
       "      <td>NaN</td>\n",
       "      <td>NaN</td>\n",
       "      <td>NaN</td>\n",
       "      <td>NaN</td>\n",
       "      <td>NaN</td>\n",
       "      <td>4.657597</td>\n",
       "      <td>17.535072</td>\n",
       "      <td>NaN</td>\n",
       "    </tr>\n",
       "    <tr>\n",
       "      <th>2018-05</th>\n",
       "      <td>NaN</td>\n",
       "      <td>NaN</td>\n",
       "      <td>NaN</td>\n",
       "      <td>NaN</td>\n",
       "      <td>NaN</td>\n",
       "      <td>NaN</td>\n",
       "      <td>NaN</td>\n",
       "      <td>NaN</td>\n",
       "      <td>NaN</td>\n",
       "      <td>NaN</td>\n",
       "      <td>NaN</td>\n",
       "      <td>4.660562</td>\n",
       "      <td>NaN</td>\n",
       "    </tr>\n",
       "    <tr>\n",
       "      <th>2018-06</th>\n",
       "      <td>NaN</td>\n",
       "      <td>NaN</td>\n",
       "      <td>NaN</td>\n",
       "      <td>NaN</td>\n",
       "      <td>NaN</td>\n",
       "      <td>NaN</td>\n",
       "      <td>NaN</td>\n",
       "      <td>NaN</td>\n",
       "      <td>NaN</td>\n",
       "      <td>NaN</td>\n",
       "      <td>NaN</td>\n",
       "      <td>NaN</td>\n",
       "      <td>3.42</td>\n",
       "    </tr>\n",
       "  </tbody>\n",
       "</table>\n",
       "</div>"
      ],
      "text/plain": [
       "orden_mes           2017-06    2017-07    2017-08    2017-09    2017-10  \\\n",
       "primera_orden_mes                                                         \n",
       "2017-06            4.724414  16.095410  17.706800  35.764815  23.506591   \n",
       "2017-07                 NaN   6.010218  12.396346  21.035965  10.786094   \n",
       "2017-08                 NaN        NaN   5.276518  11.148793  11.851321   \n",
       "2017-09                 NaN        NaN        NaN   5.644529  22.188385   \n",
       "2017-10                 NaN        NaN        NaN        NaN   5.003733   \n",
       "2017-11                 NaN        NaN        NaN        NaN        NaN   \n",
       "2017-12                 NaN        NaN        NaN        NaN        NaN   \n",
       "2018-01                 NaN        NaN        NaN        NaN        NaN   \n",
       "2018-02                 NaN        NaN        NaN        NaN        NaN   \n",
       "2018-03                 NaN        NaN        NaN        NaN        NaN   \n",
       "2018-04                 NaN        NaN        NaN        NaN        NaN   \n",
       "2018-05                 NaN        NaN        NaN        NaN        NaN   \n",
       "2018-06                 NaN        NaN        NaN        NaN        NaN   \n",
       "\n",
       "orden_mes            2017-11     2017-12    2018-01    2018-02    2018-03  \\\n",
       "primera_orden_mes                                                           \n",
       "2017-06            22.207761   31.011935  25.033191  19.295690  27.233556   \n",
       "2017-07             6.938163    7.896842   6.421111   6.992821   7.382143   \n",
       "2017-08            12.182955   16.921250  12.139062   9.620333  12.610455   \n",
       "2017-09            13.445200  138.669189  19.881538  26.095000  27.437121   \n",
       "2017-10            11.287427    6.753252   7.413152   7.072796   7.255139   \n",
       "2017-11             5.154683    7.339054   6.786583  12.510660   7.457284   \n",
       "2017-12                  NaN    4.738191   7.816575  39.366019  48.135052   \n",
       "2018-01                  NaN         NaN   4.135636   8.721228  12.365542   \n",
       "2018-02                  NaN         NaN        NaN   4.156987   8.610000   \n",
       "2018-03                  NaN         NaN        NaN        NaN   4.838803   \n",
       "2018-04                  NaN         NaN        NaN        NaN        NaN   \n",
       "2018-05                  NaN         NaN        NaN        NaN        NaN   \n",
       "2018-06                  NaN         NaN        NaN        NaN        NaN   \n",
       "\n",
       "orden_mes            2018-04    2018-05  2018-06  \n",
       "primera_orden_mes                                 \n",
       "2017-06            25.681333   9.804151      NaN  \n",
       "2017-07            12.861818  11.513846      NaN  \n",
       "2017-08            21.070000   8.307419      NaN  \n",
       "2017-09            16.961351  11.044651      NaN  \n",
       "2017-10             6.573214   7.479701      NaN  \n",
       "2017-11             4.580833   7.564839      NaN  \n",
       "2017-12            27.431400  23.518413      NaN  \n",
       "2018-01            11.199767   4.699556      NaN  \n",
       "2018-02             4.942414   6.941026      NaN  \n",
       "2018-03            11.811667  19.221897      NaN  \n",
       "2018-04             4.657597  17.535072      NaN  \n",
       "2018-05                  NaN   4.660562      NaN  \n",
       "2018-06                  NaN        NaN     3.42  "
      ]
     },
     "execution_count": 56,
     "metadata": {},
     "output_type": "execute_result"
    }
   ],
   "source": [
    "pedidos_agrupados_cohorts.pivot_table(\n",
    "    index='primera_orden_mes',\n",
    "    columns='orden_mes',\n",
    "    values='Ingreso_por_uid',\n",
    "    aggfunc='mean',)"
   ]
  }
 ],
 "metadata": {
  "kernelspec": {
   "display_name": "Python 3",
   "language": "python",
   "name": "python3"
  },
  "language_info": {
   "codemirror_mode": {
    "name": "ipython",
    "version": 3
   },
   "file_extension": ".py",
   "mimetype": "text/x-python",
   "name": "python",
   "nbconvert_exporter": "python",
   "pygments_lexer": "ipython3",
   "version": "3.13.3"
  }
 },
 "nbformat": 4,
 "nbformat_minor": 5
}
