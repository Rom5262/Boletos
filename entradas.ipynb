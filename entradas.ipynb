{
 "cells": [
  {
   "cell_type": "code",
   "execution_count": 10,
   "id": "8bb098b0",
   "metadata": {},
   "outputs": [],
   "source": [
    "import pandas as pd\n",
    "import seaborn as sns\n",
    "from matplotlib import pyplot as plt\n",
    "from math import factorial\n",
    "import numpy as np\n",
    "from scipy import stats as st"
   ]
  },
  {
   "cell_type": "code",
   "execution_count": 11,
   "id": "44e03b3c",
   "metadata": {},
   "outputs": [],
   "source": [
    "visitas = pd.read_csv('datos/visits_log_us.csv')"
   ]
  },
  {
   "cell_type": "code",
   "execution_count": 12,
   "id": "33a050c7",
   "metadata": {},
   "outputs": [],
   "source": [
    "pedidos = pd.read_csv('datos/orders_log_us.csv')"
   ]
  },
  {
   "cell_type": "code",
   "execution_count": 13,
   "id": "5fbfe04f",
   "metadata": {},
   "outputs": [],
   "source": [
    "gastos = pd.read_csv('datos/costs_us.csv')"
   ]
  },
  {
   "cell_type": "markdown",
   "id": "8f29b2a9",
   "metadata": {},
   "source": [
    "VISITAS "
   ]
  },
  {
   "cell_type": "code",
   "execution_count": 14,
   "id": "cd6c7574",
   "metadata": {},
   "outputs": [
    {
     "name": "stdout",
     "output_type": "stream",
     "text": [
      "<class 'pandas.core.frame.DataFrame'>\n",
      "RangeIndex: 359400 entries, 0 to 359399\n",
      "Data columns (total 5 columns):\n",
      " #   Column     Non-Null Count   Dtype \n",
      "---  ------     --------------   ----- \n",
      " 0   Device     359400 non-null  object\n",
      " 1   End Ts     359400 non-null  object\n",
      " 2   Source Id  359400 non-null  int64 \n",
      " 3   Start Ts   359400 non-null  object\n",
      " 4   Uid        359400 non-null  uint64\n",
      "dtypes: int64(1), object(3), uint64(1)\n",
      "memory usage: 13.7+ MB\n"
     ]
    }
   ],
   "source": [
    "visitas.info()"
   ]
  },
  {
   "cell_type": "code",
   "execution_count": 6,
   "id": "e8deb7b8",
   "metadata": {},
   "outputs": [
    {
     "data": {
      "text/html": [
       "<div>\n",
       "<style scoped>\n",
       "    .dataframe tbody tr th:only-of-type {\n",
       "        vertical-align: middle;\n",
       "    }\n",
       "\n",
       "    .dataframe tbody tr th {\n",
       "        vertical-align: top;\n",
       "    }\n",
       "\n",
       "    .dataframe thead th {\n",
       "        text-align: right;\n",
       "    }\n",
       "</style>\n",
       "<table border=\"1\" class=\"dataframe\">\n",
       "  <thead>\n",
       "    <tr style=\"text-align: right;\">\n",
       "      <th></th>\n",
       "      <th>Device</th>\n",
       "      <th>End Ts</th>\n",
       "      <th>Source Id</th>\n",
       "      <th>Start Ts</th>\n",
       "      <th>Uid</th>\n",
       "    </tr>\n",
       "  </thead>\n",
       "  <tbody>\n",
       "    <tr>\n",
       "      <th>0</th>\n",
       "      <td>touch</td>\n",
       "      <td>2017-12-20 17:38:00</td>\n",
       "      <td>4</td>\n",
       "      <td>2017-12-20 17:20:00</td>\n",
       "      <td>16879256277535980062</td>\n",
       "    </tr>\n",
       "    <tr>\n",
       "      <th>1</th>\n",
       "      <td>desktop</td>\n",
       "      <td>2018-02-19 17:21:00</td>\n",
       "      <td>2</td>\n",
       "      <td>2018-02-19 16:53:00</td>\n",
       "      <td>104060357244891740</td>\n",
       "    </tr>\n",
       "    <tr>\n",
       "      <th>2</th>\n",
       "      <td>touch</td>\n",
       "      <td>2017-07-01 01:54:00</td>\n",
       "      <td>5</td>\n",
       "      <td>2017-07-01 01:54:00</td>\n",
       "      <td>7459035603376831527</td>\n",
       "    </tr>\n",
       "    <tr>\n",
       "      <th>3</th>\n",
       "      <td>desktop</td>\n",
       "      <td>2018-05-20 11:23:00</td>\n",
       "      <td>9</td>\n",
       "      <td>2018-05-20 10:59:00</td>\n",
       "      <td>16174680259334210214</td>\n",
       "    </tr>\n",
       "    <tr>\n",
       "      <th>4</th>\n",
       "      <td>desktop</td>\n",
       "      <td>2017-12-27 14:06:00</td>\n",
       "      <td>3</td>\n",
       "      <td>2017-12-27 14:06:00</td>\n",
       "      <td>9969694820036681168</td>\n",
       "    </tr>\n",
       "  </tbody>\n",
       "</table>\n",
       "</div>"
      ],
      "text/plain": [
       "    Device               End Ts  Source Id             Start Ts  \\\n",
       "0    touch  2017-12-20 17:38:00          4  2017-12-20 17:20:00   \n",
       "1  desktop  2018-02-19 17:21:00          2  2018-02-19 16:53:00   \n",
       "2    touch  2017-07-01 01:54:00          5  2017-07-01 01:54:00   \n",
       "3  desktop  2018-05-20 11:23:00          9  2018-05-20 10:59:00   \n",
       "4  desktop  2017-12-27 14:06:00          3  2017-12-27 14:06:00   \n",
       "\n",
       "                    Uid  \n",
       "0  16879256277535980062  \n",
       "1    104060357244891740  \n",
       "2   7459035603376831527  \n",
       "3  16174680259334210214  \n",
       "4   9969694820036681168  "
      ]
     },
     "execution_count": 6,
     "metadata": {},
     "output_type": "execute_result"
    }
   ],
   "source": [
    "visitas.head()"
   ]
  },
  {
   "cell_type": "code",
   "execution_count": 7,
   "id": "383665c1",
   "metadata": {},
   "outputs": [
    {
     "name": "stdout",
     "output_type": "stream",
     "text": [
      "Device       0.0\n",
      "End Ts       0.0\n",
      "Source Id    0.0\n",
      "Start Ts     0.0\n",
      "Uid          0.0\n",
      "dtype: float64\n"
     ]
    }
   ],
   "source": [
    "visitas = visitas.isnull().mean() * 100\n",
    "print(visitas)"
   ]
  },
  {
   "cell_type": "code",
   "execution_count": 15,
   "id": "15d99237",
   "metadata": {},
   "outputs": [
    {
     "data": {
      "text/plain": [
       "np.int64(0)"
      ]
     },
     "execution_count": 15,
     "metadata": {},
     "output_type": "execute_result"
    }
   ],
   "source": [
    "visitas.duplicated().sum()"
   ]
  },
  {
   "cell_type": "code",
   "execution_count": 16,
   "id": "e72d2397",
   "metadata": {},
   "outputs": [
    {
     "name": "stdout",
     "output_type": "stream",
     "text": [
      "0\n"
     ]
    },
    {
     "data": {
      "text/html": [
       "<div>\n",
       "<style scoped>\n",
       "    .dataframe tbody tr th:only-of-type {\n",
       "        vertical-align: middle;\n",
       "    }\n",
       "\n",
       "    .dataframe tbody tr th {\n",
       "        vertical-align: top;\n",
       "    }\n",
       "\n",
       "    .dataframe thead th {\n",
       "        text-align: right;\n",
       "    }\n",
       "</style>\n",
       "<table border=\"1\" class=\"dataframe\">\n",
       "  <thead>\n",
       "    <tr style=\"text-align: right;\">\n",
       "      <th></th>\n",
       "      <th>Device</th>\n",
       "      <th>End Ts</th>\n",
       "      <th>Source Id</th>\n",
       "      <th>Start Ts</th>\n",
       "      <th>Uid</th>\n",
       "    </tr>\n",
       "  </thead>\n",
       "  <tbody>\n",
       "    <tr>\n",
       "      <th>0</th>\n",
       "      <td>touch</td>\n",
       "      <td>2017-12-20 17:38:00</td>\n",
       "      <td>4</td>\n",
       "      <td>2017-12-20 17:20:00</td>\n",
       "      <td>16879256277535980062</td>\n",
       "    </tr>\n",
       "    <tr>\n",
       "      <th>1</th>\n",
       "      <td>desktop</td>\n",
       "      <td>2018-02-19 17:21:00</td>\n",
       "      <td>2</td>\n",
       "      <td>2018-02-19 16:53:00</td>\n",
       "      <td>104060357244891740</td>\n",
       "    </tr>\n",
       "    <tr>\n",
       "      <th>2</th>\n",
       "      <td>touch</td>\n",
       "      <td>2017-07-01 01:54:00</td>\n",
       "      <td>5</td>\n",
       "      <td>2017-07-01 01:54:00</td>\n",
       "      <td>7459035603376831527</td>\n",
       "    </tr>\n",
       "    <tr>\n",
       "      <th>3</th>\n",
       "      <td>desktop</td>\n",
       "      <td>2018-05-20 11:23:00</td>\n",
       "      <td>9</td>\n",
       "      <td>2018-05-20 10:59:00</td>\n",
       "      <td>16174680259334210214</td>\n",
       "    </tr>\n",
       "    <tr>\n",
       "      <th>4</th>\n",
       "      <td>desktop</td>\n",
       "      <td>2017-12-27 14:06:00</td>\n",
       "      <td>3</td>\n",
       "      <td>2017-12-27 14:06:00</td>\n",
       "      <td>9969694820036681168</td>\n",
       "    </tr>\n",
       "    <tr>\n",
       "      <th>...</th>\n",
       "      <td>...</td>\n",
       "      <td>...</td>\n",
       "      <td>...</td>\n",
       "      <td>...</td>\n",
       "      <td>...</td>\n",
       "    </tr>\n",
       "    <tr>\n",
       "      <th>359395</th>\n",
       "      <td>desktop</td>\n",
       "      <td>2017-07-29 19:07:19</td>\n",
       "      <td>2</td>\n",
       "      <td>2017-07-29 19:07:00</td>\n",
       "      <td>18363291481961487539</td>\n",
       "    </tr>\n",
       "    <tr>\n",
       "      <th>359396</th>\n",
       "      <td>touch</td>\n",
       "      <td>2018-01-25 17:38:19</td>\n",
       "      <td>1</td>\n",
       "      <td>2018-01-25 17:38:00</td>\n",
       "      <td>18370831553019119586</td>\n",
       "    </tr>\n",
       "    <tr>\n",
       "      <th>359397</th>\n",
       "      <td>desktop</td>\n",
       "      <td>2018-03-03 10:12:19</td>\n",
       "      <td>4</td>\n",
       "      <td>2018-03-03 10:12:00</td>\n",
       "      <td>18387297585500748294</td>\n",
       "    </tr>\n",
       "    <tr>\n",
       "      <th>359398</th>\n",
       "      <td>desktop</td>\n",
       "      <td>2017-11-02 10:12:19</td>\n",
       "      <td>5</td>\n",
       "      <td>2017-11-02 10:12:00</td>\n",
       "      <td>18388616944624776485</td>\n",
       "    </tr>\n",
       "    <tr>\n",
       "      <th>359399</th>\n",
       "      <td>touch</td>\n",
       "      <td>2017-09-10 13:13:19</td>\n",
       "      <td>2</td>\n",
       "      <td>2017-09-10 13:13:00</td>\n",
       "      <td>18396128934054549559</td>\n",
       "    </tr>\n",
       "  </tbody>\n",
       "</table>\n",
       "<p>359400 rows × 5 columns</p>\n",
       "</div>"
      ],
      "text/plain": [
       "         Device               End Ts  Source Id             Start Ts  \\\n",
       "0         touch  2017-12-20 17:38:00          4  2017-12-20 17:20:00   \n",
       "1       desktop  2018-02-19 17:21:00          2  2018-02-19 16:53:00   \n",
       "2         touch  2017-07-01 01:54:00          5  2017-07-01 01:54:00   \n",
       "3       desktop  2018-05-20 11:23:00          9  2018-05-20 10:59:00   \n",
       "4       desktop  2017-12-27 14:06:00          3  2017-12-27 14:06:00   \n",
       "...         ...                  ...        ...                  ...   \n",
       "359395  desktop  2017-07-29 19:07:19          2  2017-07-29 19:07:00   \n",
       "359396    touch  2018-01-25 17:38:19          1  2018-01-25 17:38:00   \n",
       "359397  desktop  2018-03-03 10:12:19          4  2018-03-03 10:12:00   \n",
       "359398  desktop  2017-11-02 10:12:19          5  2017-11-02 10:12:00   \n",
       "359399    touch  2017-09-10 13:13:19          2  2017-09-10 13:13:00   \n",
       "\n",
       "                         Uid  \n",
       "0       16879256277535980062  \n",
       "1         104060357244891740  \n",
       "2        7459035603376831527  \n",
       "3       16174680259334210214  \n",
       "4        9969694820036681168  \n",
       "...                      ...  \n",
       "359395  18363291481961487539  \n",
       "359396  18370831553019119586  \n",
       "359397  18387297585500748294  \n",
       "359398  18388616944624776485  \n",
       "359399  18396128934054549559  \n",
       "\n",
       "[359400 rows x 5 columns]"
      ]
     },
     "execution_count": 16,
     "metadata": {},
     "output_type": "execute_result"
    }
   ],
   "source": [
    "visitas = visitas.drop_duplicates()\n",
    "print(visitas.duplicated().sum())\n",
    "visitas.reset_index(drop=True)"
   ]
  },
  {
   "cell_type": "markdown",
   "id": "9fc1c639",
   "metadata": {},
   "source": [
    "Convertiremos las columnas 'Start Ts' y 'End Ts' a formato datetime para poder trabajar con ellas"
   ]
  },
  {
   "cell_type": "code",
   "execution_count": 17,
   "id": "07b6275b",
   "metadata": {},
   "outputs": [],
   "source": [
    "visitas['Start Ts'] = pd.to_datetime(visitas['Start Ts'])\n",
    "visitas['End Ts'] = pd.to_datetime(visitas['End Ts'])"
   ]
  },
  {
   "cell_type": "markdown",
   "id": "e5a67051",
   "metadata": {},
   "source": [
    "Ahora Trabajaremos para encontrar la cantidad de usuarios por día, semana, mes"
   ]
  },
  {
   "cell_type": "code",
   "execution_count": 18,
   "id": "74a718c5",
   "metadata": {},
   "outputs": [
    {
     "name": "stdout",
     "output_type": "stream",
     "text": [
      "Start Ts\n",
      "2017-06-01    605\n",
      "2017-06-02    608\n",
      "2017-06-03    445\n",
      "2017-06-04    476\n",
      "2017-06-05    820\n",
      "Name: Uid, dtype: int64\n",
      "Start Ts\n",
      "2017-05-29/2017-06-04    2021\n",
      "2017-06-05/2017-06-11    4129\n",
      "2017-06-12/2017-06-18    2812\n",
      "2017-06-19/2017-06-25    2878\n",
      "2017-06-26/2017-07-02    3064\n",
      "Freq: W-SUN, Name: Uid, dtype: int64\n",
      "Start Ts\n",
      "2017-06    13259\n",
      "2017-07    14183\n",
      "2017-08    11631\n",
      "2017-09    18975\n",
      "2017-10    29692\n",
      "Freq: M, Name: Uid, dtype: int64\n"
     ]
    }
   ],
   "source": [
    "u_dia = visitas.groupby(visitas['Start Ts'].dt.date)['Uid'].nunique()\n",
    "u_semana = visitas.groupby(visitas['Start Ts'].dt.to_period('W'))['Uid'].nunique()\n",
    "u_mes = visitas.groupby(visitas['Start Ts'].dt.to_period('M'))['Uid'].nunique()\n",
    "\n",
    "print(u_dia.head(5))\n",
    "print(u_semana.head(5))\n",
    "print(u_mes.head(5))"
   ]
  },
  {
   "cell_type": "markdown",
   "id": "0fd724bc",
   "metadata": {},
   "source": [
    "Revisaremos cuantas sesiones se realizan por día."
   ]
  },
  {
   "cell_type": "code",
   "execution_count": 19,
   "id": "ca9d7194",
   "metadata": {},
   "outputs": [
    {
     "name": "stdout",
     "output_type": "stream",
     "text": [
      "Sesiones por dia:\n",
      " Start Ts\n",
      "2017-06-01    664\n",
      "2017-06-02    658\n",
      "2017-06-03    477\n",
      "2017-06-04    510\n",
      "2017-06-05    893\n",
      "Name: Uid, dtype: int64\n"
     ]
    }
   ],
   "source": [
    "ses_por_dia = visitas.groupby(visitas['Start Ts'].dt.date)['Uid'].count()\n",
    "print(\"Sesiones por dia:\\n\", ses_por_dia.head(5))"
   ]
  },
  {
   "cell_type": "markdown",
   "id": "9115646f",
   "metadata": {},
   "source": [
    "Revisaremos si un usuario ingresa más de una vez"
   ]
  },
  {
   "cell_type": "code",
   "execution_count": 20,
   "id": "50e306c5",
   "metadata": {},
   "outputs": [
    {
     "name": "stdout",
     "output_type": "stream",
     "text": [
      "Usuarios con más de una Sesión por Día:\n",
      " Uid\n",
      "313578113262317         3\n",
      "325320750514679         2\n",
      "526778907996220         4\n",
      "577434573913691         2\n",
      "1260655184775459        4\n",
      "                       ..\n",
      "18445884613277162497    3\n",
      "18446104389491815722    2\n",
      "18446156210226471712    7\n",
      "18446167067214817906    2\n",
      "18446621818809592527    2\n",
      "Name: Start Ts, Length: 52128, dtype: int64\n"
     ]
    }
   ],
   "source": [
    "ses_por_us = visitas.groupby('Uid')['Start Ts'].count()\n",
    "multiple_ses_us = ses_por_us[ses_por_us > 1]\n",
    "\n",
    "print(\"Usuarios con más de una Sesión por Día:\\n\", multiple_ses_us)"
   ]
  },
  {
   "cell_type": "markdown",
   "id": "8d3d9b03",
   "metadata": {},
   "source": [
    "Vamos a revisar cuanto dura cada sesión del visitante"
   ]
  },
  {
   "cell_type": "code",
   "execution_count": 21,
   "id": "84cd1a8d",
   "metadata": {},
   "outputs": [
    {
     "name": "stdout",
     "output_type": "stream",
     "text": [
      "Duracion de Cada Sesion:\n",
      " 0        0 days 00:18:00\n",
      "1        0 days 00:28:00\n",
      "2        0 days 00:00:00\n",
      "3        0 days 00:24:00\n",
      "4        0 days 00:00:00\n",
      "               ...      \n",
      "359395   0 days 00:00:19\n",
      "359396   0 days 00:00:19\n",
      "359397   0 days 00:00:19\n",
      "359398   0 days 00:00:19\n",
      "359399   0 days 00:00:19\n",
      "Name: duracion, Length: 359400, dtype: timedelta64[ns]\n"
     ]
    }
   ],
   "source": [
    "visitas['duracion'] = visitas['End Ts'] - visitas['Start Ts']\n",
    "print(\"Duracion de Cada Sesion:\\n\", visitas['duracion'])"
   ]
  },
  {
   "cell_type": "markdown",
   "id": "29ddad9b",
   "metadata": {},
   "source": [
    "Revisaremos con que frecuencia regresa al sitio cada usuario"
   ]
  },
  {
   "cell_type": "code",
   "execution_count": 22,
   "id": "4f1b17ce",
   "metadata": {},
   "outputs": [
    {
     "name": "stdout",
     "output_type": "stream",
     "text": [
      "196543                 NaT\n",
      "257333                 NaT\n",
      "173818                 NaT\n",
      "173142                 NaT\n",
      "192554   152 days 16:28:00\n",
      "                ...       \n",
      "175259                 NaT\n",
      "293449                 NaT\n",
      "319162                 NaT\n",
      "222173   144 days 20:03:00\n",
      "132805                 NaT\n",
      "Name: Start Ts, Length: 359400, dtype: timedelta64[ns]\n"
     ]
    }
   ],
   "source": [
    "visitas['Start Ts'] = pd.to_datetime(visitas['Start Ts'])\n",
    "visitas = visitas.sort_values(by=['Uid','Start Ts'])\n",
    "frecuencia_regreso = visitas.groupby('Uid')['Start Ts'].diff()\n",
    "print(frecuencia_regreso)"
   ]
  },
  {
   "cell_type": "markdown",
   "id": "86ab2d24",
   "metadata": {},
   "source": []
  },
  {
   "cell_type": "code",
   "execution_count": null,
   "id": "8bbcf389",
   "metadata": {},
   "outputs": [],
   "source": []
  }
 ],
 "metadata": {
  "kernelspec": {
   "display_name": "Python 3",
   "language": "python",
   "name": "python3"
  },
  "language_info": {
   "codemirror_mode": {
    "name": "ipython",
    "version": 3
   },
   "file_extension": ".py",
   "mimetype": "text/x-python",
   "name": "python",
   "nbconvert_exporter": "python",
   "pygments_lexer": "ipython3",
   "version": "3.13.3"
  }
 },
 "nbformat": 4,
 "nbformat_minor": 5
}
